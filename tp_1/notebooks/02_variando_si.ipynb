{
 "cells": [
  {
   "cell_type": "markdown",
   "metadata": {},
   "source": [
    "## Prueba 2: variabilidad de $s_i$"
   ]
  },
  {
   "cell_type": "code",
   "execution_count": 2,
   "metadata": {},
   "outputs": [],
   "source": [
    "import sys\n",
    "sys.path.append('../')\n",
    "\n",
    "import pandas as pd\n",
    "import seaborn as sns\n",
    "import matplotlib.pyplot as plt\n",
    "from glob import glob\n",
    "from generacion_dataset import generar_dataset\n",
    "from persistencia import importar_dataset, exportar_dataset, crear_directorio_salida\n",
    "from mediciones import promediar_tiempos_ejecucion"
   ]
  },
  {
   "cell_type": "code",
   "execution_count": 4,
   "metadata": {},
   "outputs": [],
   "source": [
    "MIN = 100\n",
    "MAX = 10000\n",
    "STEP = 100\n",
    "\n",
    "RUTA_DATASET_02 = f\"../datasets/02_variando_si_1_100\"\n",
    "RUTA_DATASET_03 = f\"../datasets/03_variando_si_1_100000\"\n",
    "RUTA_DATASET_04 = f\"../datasets/04_variando_si_1_100000000\"\n",
    "\n",
    "RUTA_TIEMPOS_02 = f\"../mediciones/02_tiempos_ejecucion_variando_si_1_100.csv\"\n",
    "RUTA_TIEMPOS_03 = f\"../mediciones/03_tiempos_ejecucion_variando_si_1_100000.csv\"\n",
    "RUTA_TIEMPOS_04 = f\"../mediciones/04_tiempos_ejecucion_variando_si_1_100000000.csv\"\n",
    "\n",
    "RUTA_FIGURAS = f\"../figuras/02_variando_si\""
   ]
  },
  {
   "cell_type": "code",
   "execution_count": 5,
   "metadata": {},
   "outputs": [],
   "source": [
    "crear_directorio_salida(RUTA_DATASET_02)\n",
    "crear_directorio_salida(RUTA_DATASET_03)\n",
    "crear_directorio_salida(RUTA_DATASET_04)"
   ]
  },
  {
   "cell_type": "markdown",
   "metadata": {},
   "source": [
    "### Generando datasets variando $s_i$"
   ]
  },
  {
   "cell_type": "code",
   "execution_count": 5,
   "metadata": {},
   "outputs": [],
   "source": [
    "for n in range(MIN, MAX, STEP):\n",
    "    dataset = generar_dataset(n, min_si = 1, max_si = 100, min_ai = 1, max_ai = 100)\n",
    "    ruta = f\"{RUTA_DATASET_02}/{n}_elementos.csv\"\n",
    "    exportar_dataset(dataset, ruta)"
   ]
  },
  {
   "cell_type": "code",
   "execution_count": 6,
   "metadata": {},
   "outputs": [],
   "source": [
    "\n",
    "for n in range(MIN, MAX, STEP):\n",
    "    dataset = generar_dataset(n, min_si = 1, max_si = 100000, min_ai = 1, max_ai = 100)\n",
    "    ruta = f\"{RUTA_DATASET_03}/{n}_elementos.csv\"\n",
    "    exportar_dataset(dataset, ruta)"
   ]
  },
  {
   "cell_type": "code",
   "execution_count": 7,
   "metadata": {},
   "outputs": [],
   "source": [
    "for n in range(MIN, MAX, STEP):\n",
    "    dataset = generar_dataset(n, min_si = 1, max_si = 100000000, min_ai = 1, max_ai = 100)\n",
    "    ruta = f\"{RUTA_DATASET_04}/{n}_elementos.csv\"\n",
    "    exportar_dataset(dataset, ruta)"
   ]
  },
  {
   "cell_type": "markdown",
   "metadata": {},
   "source": [
    "### Midiendo tiempos"
   ]
  },
  {
   "cell_type": "code",
   "execution_count": 8,
   "metadata": {},
   "outputs": [],
   "source": [
    "iteraciones = 30\n",
    "resultados = []\n",
    "archivos = glob(f\"./{RUTA_DATASET_02}/*.csv\")\n",
    "\n",
    "\n",
    "for archivo in archivos:\n",
    "    n_elementos = archivo.split('/')[-1].split('_')[0]\n",
    "    rivales = importar_dataset(archivo)\n",
    "    tiempo_promedio = promediar_tiempos_ejecucion(rivales, iteraciones)\n",
    "    resultados.append({\"cantidad\": int(n_elementos), \"tiempo_ms\": tiempo_promedio})\n",
    "\n",
    "exportar_dataset(resultados, RUTA_TIEMPOS_02, [\"cantidad\", \"tiempo_ms\"])"
   ]
  },
  {
   "cell_type": "code",
   "execution_count": 9,
   "metadata": {},
   "outputs": [],
   "source": [
    "iteraciones = 30\n",
    "resultados = []\n",
    "archivos = glob(f\"./{RUTA_DATASET_03}/*.csv\")\n",
    "\n",
    "\n",
    "for archivo in archivos:\n",
    "    n_elementos = archivo.split('/')[-1].split('_')[0]\n",
    "    rivales = importar_dataset(archivo)\n",
    "    tiempo_promedio = promediar_tiempos_ejecucion(rivales, iteraciones)\n",
    "    resultados.append({\"cantidad\": int(n_elementos), \"tiempo_ms\": tiempo_promedio})\n",
    "\n",
    "exportar_dataset(resultados, RUTA_TIEMPOS_03, [\"cantidad\", \"tiempo_ms\"])"
   ]
  },
  {
   "cell_type": "code",
   "execution_count": 10,
   "metadata": {},
   "outputs": [],
   "source": [
    "iteraciones = 30\n",
    "resultados = []\n",
    "archivos = glob(f\"./{RUTA_DATASET_04}/*.csv\")\n",
    "\n",
    "\n",
    "for archivo in archivos:\n",
    "    n_elementos = archivo.split('/')[-1].split('_')[0]\n",
    "    rivales = importar_dataset(archivo)\n",
    "    tiempo_promedio = promediar_tiempos_ejecucion(rivales, iteraciones)\n",
    "    resultados.append({\"cantidad\": int(n_elementos), \"tiempo_ms\": tiempo_promedio})\n",
    "\n",
    "exportar_dataset(resultados, RUTA_TIEMPOS_04, [\"cantidad\", \"tiempo_ms\"])"
   ]
  },
  {
   "cell_type": "markdown",
   "metadata": {},
   "source": [
    "### Comparacion entre tiempos"
   ]
  },
  {
   "cell_type": "code",
   "execution_count": 11,
   "metadata": {},
   "outputs": [],
   "source": [
    "df_02 = pd.read_csv(RUTA_TIEMPOS_02)\n",
    "df_03 = pd.read_csv(RUTA_TIEMPOS_03) \n",
    "df_04 = pd.read_csv(RUTA_TIEMPOS_04)"
   ]
  },
  {
   "cell_type": "code",
   "execution_count": 12,
   "metadata": {},
   "outputs": [],
   "source": [
    "df_02[\"Rango s_i\"] = \"1 - 100\"\n",
    "df_03[\"Rango s_i\"] = \"1 - 100000\"\n",
    "df_04[\"Rango s_i\"] = \"1 - 100000000\"\n",
    "\n",
    "df = pd.concat([df_04, df_02, df_03])"
   ]
  },
  {
   "cell_type": "code",
   "execution_count": null,
   "metadata": {},
   "outputs": [],
   "source": [
    "plt.style.use('ggplot')\n",
    "\n",
    "fig,ax = plt.subplots(1,1,figsize=(8,6))\n",
    "sns.lineplot(data = df, x=\"cantidad\", y=\"tiempo_ms\", ax=ax, palette = [\"#6C8EBF\", \"#FF5733\", \"#D79B00\"], hue = \"Rango s_i\")\n",
    "ax.set_title(\"Tiempo de ejecución en función de la cantidad de rivales\")\n",
    "ax.set_xlabel(\"cantidad de rivales ($n$)\")\n",
    "ax.set_ylabel(\"tiempo (ms)\")\n",
    "ax.set_xlim((100, 9900))\n",
    "\n",
    "fig.savefig(RUTA_FIGURAS, bbox_inches=\"tight\")"
   ]
  }
 ],
 "metadata": {
  "interpreter": {
   "hash": "916dbcbb3f70747c44a77c7bcd40155683ae19c65e1c03b4aa3499c5328201f1"
  },
  "kernelspec": {
   "display_name": "Python 3.8.10 64-bit",
   "language": "python",
   "name": "python3"
  },
  "language_info": {
   "codemirror_mode": {
    "name": "ipython",
    "version": 3
   },
   "file_extension": ".py",
   "mimetype": "text/x-python",
   "name": "python",
   "nbconvert_exporter": "python",
   "pygments_lexer": "ipython3",
   "version": "3.10.12"
  },
  "orig_nbformat": 4
 },
 "nbformat": 4,
 "nbformat_minor": 2
}
